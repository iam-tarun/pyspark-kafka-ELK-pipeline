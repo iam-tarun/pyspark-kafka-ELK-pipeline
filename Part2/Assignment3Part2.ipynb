{
 "cells": [
  {
   "cell_type": "code",
   "execution_count": null,
   "metadata": {
    "application/vnd.databricks.v1+cell": {
     "cellMetadata": {
      "byteLimit": 2048000,
      "rowLimit": 10000
     },
     "inputWidgets": {},
     "nuid": "05b0a743-e272-42f7-ad02-53e12c9ac050",
     "showTitle": false,
     "title": ""
    }
   },
   "outputs": [],
   "source": [
    "from graphframes import *"
   ]
  },
  {
   "cell_type": "code",
   "execution_count": null,
   "metadata": {},
   "outputs": [],
   "source": [
    "import requests\n",
    "# Download the file from Google Drive\n",
    "def download_file(file_id):\n",
    "    url = f\"https://drive.google.com/uc?id={file_id}\"\n",
    "    response = requests.get(url)\n",
    "    with open(\"./file.txt\", \"wb\") as f:\n",
    "        f.write(response.content)\n",
    "\n",
    "download_file(\"1Dx_wKGvcdlKvfEaM2Z_6C0gJkTn181sK\")"
   ]
  },
  {
   "cell_type": "code",
   "execution_count": null,
   "metadata": {
    "application/vnd.databricks.v1+cell": {
     "cellMetadata": {
      "byteLimit": 2048000,
      "rowLimit": 10000
     },
     "inputWidgets": {},
     "nuid": "3cf569d8-f2ef-4d68-a228-a60df41b2284",
     "showTitle": false,
     "title": ""
    }
   },
   "outputs": [],
   "source": [
    "rdd = sc.textFile(\"./file.txt\")"
   ]
  },
  {
   "cell_type": "code",
   "execution_count": null,
   "metadata": {
    "application/vnd.databricks.v1+cell": {
     "cellMetadata": {
      "byteLimit": 2048000,
      "rowLimit": 10000
     },
     "inputWidgets": {},
     "nuid": "c878e229-7ecd-4085-b894-701813d17683",
     "showTitle": false,
     "title": ""
    }
   },
   "outputs": [],
   "source": [
    "edges_rdd = rdd.map(lambda x: (x.split(\"\\t\")[0], x.split(\"\\t\")[1]))"
   ]
  },
  {
   "cell_type": "code",
   "execution_count": null,
   "metadata": {
    "application/vnd.databricks.v1+cell": {
     "cellMetadata": {
      "byteLimit": 2048000,
      "rowLimit": 10000
     },
     "inputWidgets": {},
     "nuid": "5eea6cca-6029-42d2-bff8-481ed6c555fd",
     "showTitle": false,
     "title": ""
    }
   },
   "outputs": [],
   "source": [
    "vertices_rdd = edges_rdd.flatMap(lambda x: [(x[0], ), (x[1], )]).distinct()"
   ]
  },
  {
   "cell_type": "code",
   "execution_count": null,
   "metadata": {
    "application/vnd.databricks.v1+cell": {
     "cellMetadata": {
      "byteLimit": 2048000,
      "rowLimit": 10000
     },
     "inputWidgets": {},
     "nuid": "58e6e578-3ecc-4da4-b43b-0445610599ab",
     "showTitle": false,
     "title": ""
    }
   },
   "outputs": [],
   "source": [
    "e = spark.createDataFrame(edges_rdd, [\"src\", \"dst\"])\n",
    "v = spark.createDataFrame(vertices_rdd, [\"id\"])"
   ]
  },
  {
   "cell_type": "code",
   "execution_count": null,
   "metadata": {
    "application/vnd.databricks.v1+cell": {
     "cellMetadata": {
      "byteLimit": 2048000,
      "rowLimit": 10000
     },
     "inputWidgets": {},
     "nuid": "b5d78dd5-6c87-4201-882d-618db1dc3a28",
     "showTitle": false,
     "title": ""
    }
   },
   "outputs": [
    {
     "name": "stderr",
     "output_type": "stream",
     "text": [
      "/databricks/spark/python/pyspark/sql/dataframe.py:170: UserWarning: DataFrame.sql_ctx is an internal property, and will be removed in future releases. Use DataFrame.sparkSession instead.\n",
      "  warnings.warn(\n"
     ]
    }
   ],
   "source": [
    "g = GraphFrame(v, e)"
   ]
  },
  {
   "cell_type": "code",
   "execution_count": null,
   "metadata": {
    "application/vnd.databricks.v1+cell": {
     "cellMetadata": {
      "byteLimit": 2048000,
      "rowLimit": 10000
     },
     "inputWidgets": {},
     "nuid": "411de86a-07be-41ff-a5bf-541c8e55b416",
     "showTitle": false,
     "title": ""
    }
   },
   "outputs": [
    {
     "name": "stderr",
     "output_type": "stream",
     "text": [
      "/databricks/spark/python/pyspark/sql/dataframe.py:149: UserWarning: DataFrame constructor is internal. Do not directly use it.\n",
      "  warnings.warn(\"DataFrame constructor is internal. Do not directly use it.\")\n"
     ]
    }
   ],
   "source": [
    "outdegrees = g.outDegrees"
   ]
  },
  {
   "cell_type": "code",
   "execution_count": null,
   "metadata": {
    "application/vnd.databricks.v1+cell": {
     "cellMetadata": {
      "byteLimit": 2048000,
      "rowLimit": 10000
     },
     "inputWidgets": {},
     "nuid": "3b35d0f3-3ebe-4b4e-a01b-efcc753fe0f8",
     "showTitle": false,
     "title": ""
    }
   },
   "outputs": [
    {
     "name": "stdout",
     "output_type": "stream",
     "text": [
      "+----+---------+\n",
      "|  id|outDegree|\n",
      "+----+---------+\n",
      "| 296|       10|\n",
      "| 467|       12|\n",
      "| 675|        1|\n",
      "| 691|       24|\n",
      "|1159|        2|\n",
      "|1090|        2|\n",
      "|1436|        1|\n",
      "|1512|        1|\n",
      "|1572|        2|\n",
      "|2069|       17|\n",
      "|2088|        6|\n",
      "|2136|        1|\n",
      "|2294|        9|\n",
      "| 125|       29|\n",
      "| 451|        1|\n",
      "| 800|        2|\n",
      "| 853|       16|\n",
      "| 944|        5|\n",
      "|1394|        9|\n",
      "|2110|        3|\n",
      "+----+---------+\n",
      "only showing top 20 rows\n",
      "\n"
     ]
    }
   ],
   "source": [
    "outdegrees.show()"
   ]
  },
  {
   "cell_type": "code",
   "execution_count": null,
   "metadata": {
    "application/vnd.databricks.v1+cell": {
     "cellMetadata": {
      "byteLimit": 2048000,
      "rowLimit": 10000
     },
     "inputWidgets": {},
     "nuid": "28ae9d8b-b9f8-4320-a303-012d42da6edd",
     "showTitle": false,
     "title": ""
    }
   },
   "outputs": [],
   "source": [
    "nodes_with_highest_outdegree = outdegrees.orderBy(outdegrees[\"outdegree\"].desc()).limit(5)"
   ]
  },
  {
   "cell_type": "code",
   "execution_count": null,
   "metadata": {
    "application/vnd.databricks.v1+cell": {
     "cellMetadata": {
      "byteLimit": 2048000,
      "rowLimit": 10000
     },
     "inputWidgets": {},
     "nuid": "834a2ea2-d0d6-4efb-858f-693d92181024",
     "showTitle": false,
     "title": ""
    }
   },
   "outputs": [
    {
     "name": "stdout",
     "output_type": "stream",
     "text": [
      "+----+---------+\n",
      "|  id|outDegree|\n",
      "+----+---------+\n",
      "|2565|      893|\n",
      "| 766|      773|\n",
      "|  11|      743|\n",
      "| 457|      732|\n",
      "|2688|      618|\n",
      "+----+---------+\n",
      "\n"
     ]
    }
   ],
   "source": [
    "nodes_with_highest_outdegree.show()"
   ]
  },
  {
   "cell_type": "code",
   "execution_count": null,
   "metadata": {
    "application/vnd.databricks.v1+cell": {
     "cellMetadata": {
      "byteLimit": 2048000,
      "rowLimit": 10000
     },
     "inputWidgets": {},
     "nuid": "0562c3ca-2010-4172-bc83-ebbe9114217d",
     "showTitle": false,
     "title": ""
    }
   },
   "outputs": [],
   "source": [
    "indegrees = g.inDegrees"
   ]
  },
  {
   "cell_type": "code",
   "execution_count": null,
   "metadata": {
    "application/vnd.databricks.v1+cell": {
     "cellMetadata": {
      "byteLimit": 2048000,
      "rowLimit": 10000
     },
     "inputWidgets": {},
     "nuid": "dfdd12d3-0467-48e8-b579-8c00650f65ce",
     "showTitle": false,
     "title": ""
    }
   },
   "outputs": [],
   "source": [
    "nodes_with_highest_indegrees = indegrees.orderBy(indegrees[\"indegree\"].desc()).limit(5)"
   ]
  },
  {
   "cell_type": "code",
   "execution_count": null,
   "metadata": {
    "application/vnd.databricks.v1+cell": {
     "cellMetadata": {
      "byteLimit": 2048000,
      "rowLimit": 10000
     },
     "inputWidgets": {},
     "nuid": "4a1c84d4-cc49-42a0-aa1c-2605958ec000",
     "showTitle": false,
     "title": ""
    }
   },
   "outputs": [
    {
     "name": "stdout",
     "output_type": "stream",
     "text": [
      "+----+--------+\n",
      "|  id|inDegree|\n",
      "+----+--------+\n",
      "|4037|     457|\n",
      "|  15|     361|\n",
      "|2398|     340|\n",
      "|2625|     331|\n",
      "|1297|     309|\n",
      "+----+--------+\n",
      "\n"
     ]
    }
   ],
   "source": [
    "nodes_with_highest_indegrees.show()"
   ]
  },
  {
   "cell_type": "code",
   "execution_count": null,
   "metadata": {
    "application/vnd.databricks.v1+cell": {
     "cellMetadata": {
      "byteLimit": 2048000,
      "rowLimit": 10000
     },
     "inputWidgets": {},
     "nuid": "cbaa5b7c-e658-4f84-8a3c-b7203a2fcf5b",
     "showTitle": false,
     "title": ""
    }
   },
   "outputs": [],
   "source": [
    "pagerank_results = g.pageRank(resetProbability=0.15, tol=0.01)"
   ]
  },
  {
   "cell_type": "code",
   "execution_count": null,
   "metadata": {
    "application/vnd.databricks.v1+cell": {
     "cellMetadata": {
      "byteLimit": 2048000,
      "rowLimit": 10000
     },
     "inputWidgets": {},
     "nuid": "98acd8c7-e0bd-4e5d-ac87-bff95bef0d91",
     "showTitle": false,
     "title": ""
    }
   },
   "outputs": [],
   "source": [
    "pagerank_values = pagerank_results.vertices"
   ]
  },
  {
   "cell_type": "code",
   "execution_count": null,
   "metadata": {
    "application/vnd.databricks.v1+cell": {
     "cellMetadata": {
      "byteLimit": 2048000,
      "rowLimit": 10000
     },
     "inputWidgets": {},
     "nuid": "a6e006a9-3dd0-4a77-98e4-db4140de3178",
     "showTitle": false,
     "title": ""
    }
   },
   "outputs": [],
   "source": [
    "top_5_pagerank_nodes = pagerank_values.orderBy(pagerank_values.pagerank.desc()).limit(5)"
   ]
  },
  {
   "cell_type": "code",
   "execution_count": null,
   "metadata": {
    "application/vnd.databricks.v1+cell": {
     "cellMetadata": {
      "byteLimit": 2048000,
      "rowLimit": 10000
     },
     "inputWidgets": {},
     "nuid": "903bea17-5c81-424a-9eac-095c2f2076d7",
     "showTitle": false,
     "title": ""
    }
   },
   "outputs": [
    {
     "name": "stdout",
     "output_type": "stream",
     "text": [
      "+----+------------------+\n",
      "|  id|          pagerank|\n",
      "+----+------------------+\n",
      "|4037| 32.84294411698262|\n",
      "|  15|  26.1242509353023|\n",
      "|6634|25.324758401496755|\n",
      "|2625|23.143419134686606|\n",
      "|2398|18.458414261565846|\n",
      "+----+------------------+\n",
      "\n"
     ]
    }
   ],
   "source": [
    "top_5_pagerank_nodes.show()"
   ]
  },
  {
   "cell_type": "code",
   "execution_count": null,
   "metadata": {
    "application/vnd.databricks.v1+cell": {
     "cellMetadata": {
      "byteLimit": 2048000,
      "rowLimit": 10000
     },
     "inputWidgets": {},
     "nuid": "ca4876ff-fce9-4bfc-9b31-5f15cf7cee8e",
     "showTitle": false,
     "title": ""
    }
   },
   "outputs": [],
   "source": [
    "checkpoint_dir = \"/tmp/checkpoint\""
   ]
  },
  {
   "cell_type": "code",
   "execution_count": null,
   "metadata": {
    "application/vnd.databricks.v1+cell": {
     "cellMetadata": {
      "byteLimit": 2048000,
      "rowLimit": 10000
     },
     "inputWidgets": {},
     "nuid": "1d293366-8372-4fcc-97d8-f5f1f0cac36b",
     "showTitle": false,
     "title": ""
    }
   },
   "outputs": [],
   "source": [
    "sc.setCheckpointDir(checkpoint_dir)"
   ]
  },
  {
   "cell_type": "code",
   "execution_count": null,
   "metadata": {
    "application/vnd.databricks.v1+cell": {
     "cellMetadata": {
      "byteLimit": 2048000,
      "rowLimit": 10000
     },
     "inputWidgets": {},
     "nuid": "d0e12f80-7fcc-49c4-a718-938af597260f",
     "showTitle": false,
     "title": ""
    }
   },
   "outputs": [],
   "source": [
    "connected_components = g.connectedComponents()"
   ]
  },
  {
   "cell_type": "code",
   "execution_count": null,
   "metadata": {
    "application/vnd.databricks.v1+cell": {
     "cellMetadata": {
      "byteLimit": 2048000,
      "rowLimit": 10000
     },
     "inputWidgets": {},
     "nuid": "3b34049a-8bad-4c57-ae9c-67fda83a92db",
     "showTitle": false,
     "title": ""
    }
   },
   "outputs": [],
   "source": [
    "component_sizes = connected_components.groupby(\"component\").count()"
   ]
  },
  {
   "cell_type": "code",
   "execution_count": null,
   "metadata": {
    "application/vnd.databricks.v1+cell": {
     "cellMetadata": {
      "byteLimit": 2048000,
      "rowLimit": 10000
     },
     "inputWidgets": {},
     "nuid": "e3bc78f8-c123-4cba-957a-38d67e4e453e",
     "showTitle": false,
     "title": ""
    }
   },
   "outputs": [],
   "source": [
    "top_5_components = component_sizes.orderBy(component_sizes[\"count\"].desc()).limit(5)"
   ]
  },
  {
   "cell_type": "code",
   "execution_count": null,
   "metadata": {
    "application/vnd.databricks.v1+cell": {
     "cellMetadata": {
      "byteLimit": 2048000,
      "rowLimit": 10000
     },
     "inputWidgets": {},
     "nuid": "140e4cd5-808d-4ace-8992-1ac2029d8184",
     "showTitle": false,
     "title": ""
    }
   },
   "outputs": [
    {
     "name": "stdout",
     "output_type": "stream",
     "text": [
      "+------------+-----+\n",
      "|   component|count|\n",
      "+------------+-----+\n",
      "|           0| 7066|\n",
      "|532575944741|    3|\n",
      "|592705486870|    3|\n",
      "|936302870556|    3|\n",
      "|369367187471|    2|\n",
      "+------------+-----+\n",
      "\n"
     ]
    }
   ],
   "source": [
    "top_5_components.show()"
   ]
  },
  {
   "cell_type": "code",
   "execution_count": null,
   "metadata": {
    "application/vnd.databricks.v1+cell": {
     "cellMetadata": {
      "byteLimit": 2048000,
      "rowLimit": 10000
     },
     "inputWidgets": {},
     "nuid": "26ff64e3-d758-44ec-8910-183ee4c09756",
     "showTitle": false,
     "title": ""
    }
   },
   "outputs": [],
   "source": [
    "triangle_counts = g.triangleCount()"
   ]
  },
  {
   "cell_type": "code",
   "execution_count": null,
   "metadata": {
    "application/vnd.databricks.v1+cell": {
     "cellMetadata": {
      "byteLimit": 2048000,
      "rowLimit": 10000
     },
     "inputWidgets": {},
     "nuid": "567ceaab-d58e-4f3e-9db2-52af6eaa0bff",
     "showTitle": false,
     "title": ""
    }
   },
   "outputs": [
    {
     "name": "stdout",
     "output_type": "stream",
     "text": [
      "+-----+----+\n",
      "|count|  id|\n",
      "+-----+----+\n",
      "|  280|   3|\n",
      "|   57|  30|\n",
      "| 2309|  28|\n",
      "| 1899|  35|\n",
      "|   43| 300|\n",
      "|  420|  75|\n",
      "| 3143|   6|\n",
      "|   50| 604|\n",
      "|  661|  23|\n",
      "|  948|  55|\n",
      "|   26| 349|\n",
      "|  748|  25|\n",
      "| 1879| 271|\n",
      "|  471| 178|\n",
      "|   68| 567|\n",
      "|  345| 152|\n",
      "|  955| 371|\n",
      "|  368|  39|\n",
      "|    4|8283|\n",
      "|  805| 182|\n",
      "+-----+----+\n",
      "only showing top 20 rows\n",
      "\n"
     ]
    }
   ],
   "source": [
    "triangle_counts.show()"
   ]
  },
  {
   "cell_type": "code",
   "execution_count": null,
   "metadata": {
    "application/vnd.databricks.v1+cell": {
     "cellMetadata": {
      "byteLimit": 2048000,
      "rowLimit": 10000
     },
     "inputWidgets": {},
     "nuid": "f62cea93-3b94-4308-8b83-b8a75018e7e0",
     "showTitle": false,
     "title": ""
    }
   },
   "outputs": [],
   "source": [
    "top_5_vertices = triangle_counts.orderBy(triangle_counts[\"count\"].desc()).limit(5)\n"
   ]
  },
  {
   "cell_type": "code",
   "execution_count": null,
   "metadata": {
    "application/vnd.databricks.v1+cell": {
     "cellMetadata": {
      "byteLimit": 2048000,
      "rowLimit": 10000
     },
     "inputWidgets": {},
     "nuid": "00ab9a35-f9ba-4db7-b435-3ceec68fe567",
     "showTitle": false,
     "title": ""
    }
   },
   "outputs": [
    {
     "name": "stdout",
     "output_type": "stream",
     "text": [
      "+-----+----+\n",
      "|count|  id|\n",
      "+-----+----+\n",
      "|30940|2565|\n",
      "|22003|1549|\n",
      "|18204| 766|\n",
      "|17361|1166|\n",
      "|14220|2688|\n",
      "+-----+----+\n",
      "\n"
     ]
    }
   ],
   "source": [
    "top_5_vertices.show()"
   ]
  },
  {
   "cell_type": "code",
   "execution_count": null,
   "metadata": {
    "application/vnd.databricks.v1+cell": {
     "cellMetadata": {
      "byteLimit": 2048000,
      "rowLimit": 10000
     },
     "inputWidgets": {},
     "nuid": "d320ac1e-e71d-4ce3-b414-9b954600356d",
     "showTitle": false,
     "title": ""
    }
   },
   "outputs": [],
   "source": [
    "output_file_paths = [\"dbfs:/FileStore/shared_uploads/otaruntejaa@gmail.com/Assignment3Part2res1.csv\",\n",
    "                     \"dbfs:/FileStore/shared_uploads/otaruntejaa@gmail.com/Assignment3Part2res2.csv\",\n",
    "                     \"dbfs:/FileStore/shared_uploads/otaruntejaa@gmail.com/Assignment3Part2res3.csv\",\n",
    "                     \"dbfs:/FileStore/shared_uploads/otaruntejaa@gmail.com/Assignment3Part2res4.csv\",\n",
    "                     \"dbfs:/FileStore/shared_uploads/otaruntejaa@gmail.com/Assignment3Part2res5.csv\"\n",
    "                     ]"
   ]
  },
  {
   "cell_type": "code",
   "execution_count": null,
   "metadata": {
    "application/vnd.databricks.v1+cell": {
     "cellMetadata": {
      "byteLimit": 2048000,
      "rowLimit": 10000
     },
     "inputWidgets": {},
     "nuid": "4cfadbdf-0a4b-4cf1-99b2-40b8e951b72b",
     "showTitle": false,
     "title": ""
    }
   },
   "outputs": [],
   "source": [
    "nodes_with_highest_outdegree.write.csv(output_file_paths[0], header=True)\n",
    "nodes_with_highest_indegrees.write.csv(output_file_paths[1], header=True)\n",
    "top_5_pagerank_nodes.write.csv(output_file_paths[2], header=True)\n",
    "top_5_components.write.csv(output_file_paths[3], header=True)\n",
    "top_5_vertices.write.csv(output_file_paths[4], header=True)"
   ]
  },
  {
   "cell_type": "code",
   "execution_count": null,
   "metadata": {
    "application/vnd.databricks.v1+cell": {
     "cellMetadata": {},
     "inputWidgets": {},
     "nuid": "9fae1792-b3f8-4403-8081-95e6e6c6698a",
     "showTitle": false,
     "title": ""
    }
   },
   "outputs": [],
   "source": []
  }
 ],
 "metadata": {
  "application/vnd.databricks.v1+notebook": {
   "dashboards": [],
   "language": "python",
   "notebookMetadata": {
    "mostRecentlyExecutedCommandWithImplicitDF": {
     "commandId": 1289318755473355,
     "dataframes": [
      "_sqldf"
     ]
    },
    "pythonIndentUnit": 4
   },
   "notebookName": "Assignment3Part2",
   "widgets": {}
  },
  "language_info": {
   "name": "python"
  }
 },
 "nbformat": 4,
 "nbformat_minor": 0
}
